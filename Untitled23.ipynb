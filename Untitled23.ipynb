{
  "nbformat": 4,
  "nbformat_minor": 0,
  "metadata": {
    "colab": {
      "provenance": []
    },
    "kernelspec": {
      "name": "python3",
      "display_name": "Python 3"
    },
    "language_info": {
      "name": "python"
    }
  },
  "cells": [
    {
      "cell_type": "code",
      "source": [],
      "metadata": {
        "id": "w9_K88QSs1r9"
      },
      "execution_count": null,
      "outputs": []
    },
    {
      "cell_type": "code",
      "source": [
        "import requests\n",
        "\n",
        "API_KEY = \"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\"\n",
        "API_URL = \"https://api.groq.com/openai/v1/chat/completions\"\n",
        "\n",
        "def chat_with_groq(message):\n",
        "    headers = {\"Authorization\": f\"Bearer {API_KEY}\", \"Content-Type\": \"application/json\"}\n",
        "    data = '{\"model\": \"llama3-8b-8192\", \"messages\": [{\"role\": \"user\", \"content\": \"' + message + '\"}]}'\n",
        "\n",
        "    response = requests.post(API_URL, headers=headers, data=data)\n",
        "    if response.status_code == 200:\n",
        "        return response.json()[\"choices\"][0][\"message\"][\"content\"]\n",
        "    return f\"Error {response.status_code}: {response.text}\"\n",
        "\n",
        "while True:\n",
        "    user_input = input(\"You: \")\n",
        "    if user_input.lower() in [\"exit\", \"quit\", \"bye\"]:\n",
        "        print(\"Bot: Goodbye!\")\n",
        "        break\n",
        "    print(\"Bot:\", chat_with_groq(user_input))\n"
      ],
      "metadata": {
        "colab": {
          "base_uri": "https://localhost:8080/"
        },
        "id": "Ra1SAtgstGpG",
        "outputId": "298c4e6e-53e1-4a24-a953-b6d11e93eb50"
      },
      "execution_count": null,
      "outputs": [
        {
          "output_type": "stream",
          "name": "stdout",
          "text": [
            "You: what to do i feel like vommiting \n",
            "Bot: Oh no, I'm so sorry to hear that you're feeling unwell! When you feel like vomiting, it's often a sign that your body is trying to get rid of something that's not agreeing with you. Here are some steps you can take to help ease your symptoms and potentially prevent vomiting:\n",
            "\n",
            "1. **Stay calm**: Take slow, deep breaths and try to relax. Panic can make things worse.\n",
            "2. **Find a safe place**: Get to a quiet, comfortable spot where you won't be disturbed.\n",
            "3. **Bend over**: Slightly bend your knees and lean forward, trying to get your head down towards your knees. This can help ease the pressure in your stomach.\n",
            "4. **Drink some water**: If you can stomach it, try drinking small amounts of water (about 1/2 cup or 120 ml). This can help flush out your system and settle your stomach. Avoid drinking too quickly or too much, as this can make things worse.\n",
            "5. **Avoid triggering foods**: If you know that certain foods or drinks often make you feel queasy, try to avoid them. Common culprits include greasy or spicy foods, strong-smelling foods, or foods that are high in sugar or fat.\n",
            "6. **Get some fresh air**: If you're indoors, open a window or take a quick walk outside to get some fresh air. This can help clear your head and make you feel a bit brighter.\n",
            "7. **Try some ginger**: Ginger has natural anti-inflammatory properties that can help soothe an upset stomach. Try drinking ginger tea, eating ginger candies, or adding fresh ginger to your food.\n",
            "8. **Rest and relax**: Give your body a break and take some time to rest. Lie down in a comfortable position, close your eyes, and try to relax. Avoid stimulating activities, like watching TV or playing video games, as these can make things worse.\n",
            "9. **Seek medical attention if needed**: If your symptoms are severe, prolonged, or accompanied by other concerning symptoms like fever, abdominal pain, or bloody stools, seek medical attention. Always consult with a healthcare professional if you're unsure about your symptoms or if they're impacting your daily life.\n",
            "\n",
            "Remember, if you're experiencing persistent or severe symptoms, it's always a good idea to consult with a healthcare professional for personalized advice and treatment.\n",
            "\n",
            "How are you feeling now? Has your condition improved or worsened?\n"
          ]
        }
      ]
    }
  ]
}